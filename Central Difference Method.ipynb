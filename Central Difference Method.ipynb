{
 "cells": [
  {
   "cell_type": "markdown",
   "id": "7dc65bf7",
   "metadata": {},
   "source": [
    "# Central Difference Method"
   ]
  },
  {
   "cell_type": "code",
   "execution_count": 9,
   "id": "792434a5",
   "metadata": {},
   "outputs": [],
   "source": [
    "import numpy as np\n",
    "import pandas as pd"
   ]
  },
  {
   "cell_type": "markdown",
   "id": "e5dabcb4",
   "metadata": {},
   "source": [
    "## Initial Parameters"
   ]
  },
  {
   "cell_type": "code",
   "execution_count": 10,
   "id": "079907b2",
   "metadata": {},
   "outputs": [
    {
     "name": "stdout",
     "output_type": "stream",
     "text": [
      "Stifness, k = 9.00e+07 N/m\n",
      "mass, m = 4.90e+05 kg\n",
      "Damping Ratio, r = 0.050\n",
      "Natural Frequency, Wn = 13.56 rad/s\n",
      "Natural Period, Tn = 0.463 s\n",
      "Damping Coefficient, c = 663807.20 N.s/m\n"
     ]
    }
   ],
   "source": [
    "k = 90 *1000000           #N/m\n",
    "m = 489.60 * 1000         #kg\n",
    "dr = 0.05 \n",
    "Wn = np.sqrt(k / m)       #rad/s \n",
    "Tn = 2 * np.pi / Wn       #s \n",
    "c = 2 * m * dr * Wn       #N.sec/m\n",
    "\n",
    "print(f'Stifness, k = {k:.2e} N/m\\n'\n",
    "      f'mass, m = {m:.2e} kg\\n'\n",
    "      f'Damping Ratio, r = {dr:.3f}\\n'\n",
    "      f'Natural Frequency, Wn = {Wn:.2f} rad/s\\n'\n",
    "      f'Natural Period, Tn = {Tn:.3f} s\\n'\n",
    "      f'Damping Coefficient, c = {c:.2f} N.s/m')"
   ]
  },
  {
   "cell_type": "markdown",
   "id": "9c7c0ec2",
   "metadata": {},
   "source": [
    "## Loading El Centro Dataset"
   ]
  },
  {
   "cell_type": "code",
   "execution_count": 11,
   "id": "7c941a71",
   "metadata": {},
   "outputs": [],
   "source": [
    "elcentro_df = pd.read_csv('Data_Elcentro.csv')       #Replace with your file path"
   ]
  },
  {
   "cell_type": "markdown",
   "id": "9e285e80",
   "metadata": {},
   "source": [
    "## Initial Calculations"
   ]
  },
  {
   "cell_type": "code",
   "execution_count": 12,
   "id": "7b787974",
   "metadata": {},
   "outputs": [
    {
     "name": "stdout",
     "output_type": "stream",
     "text": [
      "Initial Ground Acceleration Factor,g = 6.3e-05 m/s^2\n",
      "Initial Load, p_0 = -302.587488 N\n",
      "Initial Displacement, u_0 = 0.0000 m\n",
      "Initial Velocity, v_0 = 0.0000 m/s\n",
      "Initial Acceleration = -0.00061803 m/s^2\n",
      "u-1 = -0.00000000000 m\n",
      "k_hat = 6.919e+14 kg/s^2\n",
      "a = 6.92e+14\n",
      "b = -1.384e+15\n",
      "p_hat_0 = -151.2910 N\n",
      "u_1 = -0.00000000000 m\n"
     ]
    }
   ],
   "source": [
    "#At i = 0\n",
    "g = 9.81                                   #m/s^2\n",
    "\n",
    "#Extracting Ground Acceleration Factor \n",
    "ground_acc_factors_g = elcentro_df['acceleration'].values / 100        #converts values from cm/s^2 to m/s^2\n",
    "print(f'Initial Ground Acceleration Factor,g = {ground_acc_factors_g[0]} m/s^2')            \n",
    "\n",
    "u_0 = 0           #Initial Displacement, m\n",
    "v_0 = 0           #Initial Velocity, m/s\n",
    "\n",
    "#Calculating Initial Force\n",
    "p_values = -ground_acc_factors_g * m * g\n",
    "p_0 = p_values[0]                               #N\n",
    "print(f'Initial Load, p_0 = {p_0} N') \n",
    "\n",
    "#Calculating the Initial Acceleration\n",
    "a_0 = (p_0 - (c*v_0) - (k * u_0)) /m            \n",
    "print(f'Initial Displacement, u_0 = {u_0:.4f} m\\n'\n",
    "      f'Initial Velocity, v_0 = {v_0:.4f} m/s\\n'\n",
    "      f'Initial Acceleration = {a_0} m/s^2')\n",
    "\n",
    "#Calculating u-1\n",
    "delta_t = ground_acc_factors_g[1] - ground_acc_factors_g[0]  #s\n",
    "u_minus_1 = u_0 - (v_0 * delta_t) + ((a_0 * delta_t**2)/2)\n",
    "print(f'u-1 = {u_minus_1:.11f} m')\n",
    "\n",
    "#Calculating k hat\n",
    "k_hat = (m / delta_t**2) + (c / (2 * delta_t ))\n",
    "print(f'k_hat = {k_hat:.4g} kg/s^2')\n",
    "\n",
    "#Calculating a\n",
    "a = (m / delta_t**2) - (c / (2 * delta_t))\n",
    "print(f'a = {a:.4g}')\n",
    "\n",
    "#Calculating b\n",
    "b = k - (2 * m / delta_t**2)\n",
    "print(f'b = {b:.4g}')\n",
    "  \n",
    "p_hat_0 = p_0 - (a * u_minus_1) - (b * u_0)\n",
    "print(f'p_hat_0 = {p_hat_0:.4f} N')\n",
    "\n",
    "#Calculating u_1\n",
    "u_1 = p_hat_0 / k_hat\n",
    "print(f'u_1 = {u_1:.11f} m')"
   ]
  },
  {
   "cell_type": "markdown",
   "id": "a62db704",
   "metadata": {},
   "source": [
    "## Initializing Dataframe"
   ]
  },
  {
   "cell_type": "code",
   "execution_count": 13,
   "id": "823132a4",
   "metadata": {},
   "outputs": [],
   "source": [
    "values = ['t_i', 'P_i', 'u_i_minus_1', 'u_i', 'P^i', 'u_i_plus_1']\n",
    "data = pd.DataFrame(columns = values)"
   ]
  },
  {
   "cell_type": "markdown",
   "id": "1a87128f",
   "metadata": {},
   "source": [
    "## Storing Values from Initial Calculations in DataFrame"
   ]
  },
  {
   "cell_type": "code",
   "execution_count": 14,
   "id": "b800eebf",
   "metadata": {},
   "outputs": [],
   "source": [
    "data['t_i'] = elcentro_df['time'].values\n",
    "data['P_i'] = p_values\n",
    "data['u_i_minus_1'] = u_minus_1\n",
    "data['u_i'] = a_0\n",
    "data['P^i'] = p_hat_0\n",
    "data['u_i_plus_1'] = u_1"
   ]
  },
  {
   "cell_type": "code",
   "execution_count": 15,
   "id": "34358781",
   "metadata": {},
   "outputs": [
    {
     "data": {
      "text/html": [
       "<div>\n",
       "<style scoped>\n",
       "    .dataframe tbody tr th:only-of-type {\n",
       "        vertical-align: middle;\n",
       "    }\n",
       "\n",
       "    .dataframe tbody tr th {\n",
       "        vertical-align: top;\n",
       "    }\n",
       "\n",
       "    .dataframe thead th {\n",
       "        text-align: right;\n",
       "    }\n",
       "</style>\n",
       "<table border=\"1\" class=\"dataframe\">\n",
       "  <thead>\n",
       "    <tr style=\"text-align: right;\">\n",
       "      <th></th>\n",
       "      <th>t_i</th>\n",
       "      <th>P_i</th>\n",
       "      <th>u_i_minus_1</th>\n",
       "      <th>u_i</th>\n",
       "      <th>P^i</th>\n",
       "      <th>u_i_plus_1</th>\n",
       "    </tr>\n",
       "  </thead>\n",
       "  <tbody>\n",
       "    <tr>\n",
       "      <th>0</th>\n",
       "      <td>0.00</td>\n",
       "      <td>-302.587488</td>\n",
       "      <td>-2.186467e-13</td>\n",
       "      <td>-0.000618</td>\n",
       "      <td>-151.291016</td>\n",
       "      <td>-2.186467e-13</td>\n",
       "    </tr>\n",
       "    <tr>\n",
       "      <th>1</th>\n",
       "      <td>0.02</td>\n",
       "      <td>-174.828326</td>\n",
       "      <td>-2.186467e-13</td>\n",
       "      <td>-0.000618</td>\n",
       "      <td>-151.291016</td>\n",
       "      <td>-2.186467e-13</td>\n",
       "    </tr>\n",
       "    <tr>\n",
       "      <th>2</th>\n",
       "      <td>0.04</td>\n",
       "      <td>-47.549462</td>\n",
       "      <td>-2.186467e-13</td>\n",
       "      <td>-0.000618</td>\n",
       "      <td>-151.291016</td>\n",
       "      <td>-2.186467e-13</td>\n",
       "    </tr>\n",
       "    <tr>\n",
       "      <th>3</th>\n",
       "      <td>0.06</td>\n",
       "      <td>-205.567373</td>\n",
       "      <td>-2.186467e-13</td>\n",
       "      <td>-0.000618</td>\n",
       "      <td>-151.291016</td>\n",
       "      <td>-2.186467e-13</td>\n",
       "    </tr>\n",
       "    <tr>\n",
       "      <th>4</th>\n",
       "      <td>0.08</td>\n",
       "      <td>-364.065581</td>\n",
       "      <td>-2.186467e-13</td>\n",
       "      <td>-0.000618</td>\n",
       "      <td>-151.291016</td>\n",
       "      <td>-2.186467e-13</td>\n",
       "    </tr>\n",
       "  </tbody>\n",
       "</table>\n",
       "</div>"
      ],
      "text/plain": [
       "    t_i         P_i   u_i_minus_1       u_i         P^i    u_i_plus_1\n",
       "0  0.00 -302.587488 -2.186467e-13 -0.000618 -151.291016 -2.186467e-13\n",
       "1  0.02 -174.828326 -2.186467e-13 -0.000618 -151.291016 -2.186467e-13\n",
       "2  0.04  -47.549462 -2.186467e-13 -0.000618 -151.291016 -2.186467e-13\n",
       "3  0.06 -205.567373 -2.186467e-13 -0.000618 -151.291016 -2.186467e-13\n",
       "4  0.08 -364.065581 -2.186467e-13 -0.000618 -151.291016 -2.186467e-13"
      ]
     },
     "execution_count": 15,
     "metadata": {},
     "output_type": "execute_result"
    }
   ],
   "source": [
    "data.head()"
   ]
  },
  {
   "cell_type": "code",
   "execution_count": null,
   "id": "9f7e741a",
   "metadata": {},
   "outputs": [],
   "source": [
    "for i in range(1, len(data)):           #Iteration starts from i = 1\n",
    "    data.loc[i, 'u_i_minus_1'] = data.loc[i-1, 'u_i']\n",
    "    data.loc[i, 'u_1'] = data.loc[i-1, 'u_i_plus_1']\n",
    "\n",
    "    #Calculating P^i\n",
    "    data.loc[i, 'P^i'] = data.loc[i, 'P_i'] - ((a * data.loc[i, 'u_i_minus_1']) + (b * data.loc[i, 'u_i']))\n",
    "\n",
    "    #Calculating u_i_plus_1\n",
    "    data.loc[i, 'u_i_plus_1'] = data.loc[i, 'P^i'] / k_hat"
   ]
  }
 ],
 "metadata": {
  "kernelspec": {
   "display_name": "cuda",
   "language": "python",
   "name": "python3"
  },
  "language_info": {
   "codemirror_mode": {
    "name": "ipython",
    "version": 3
   },
   "file_extension": ".py",
   "mimetype": "text/x-python",
   "name": "python",
   "nbconvert_exporter": "python",
   "pygments_lexer": "ipython3",
   "version": "3.12.3"
  }
 },
 "nbformat": 4,
 "nbformat_minor": 5
}
